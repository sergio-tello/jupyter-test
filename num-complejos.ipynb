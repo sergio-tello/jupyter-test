{
 "cells": [
  {
   "cell_type": "markdown",
   "metadata": {},
   "source": [
    "# Capítulo 1. Números complejos"
   ]
  },
  {
   "cell_type": "code",
   "execution_count": 1,
   "metadata": {},
   "outputs": [],
   "source": [
    "import numpy as np\n",
    "import matplotlib.pyplot as plt"
   ]
  },
  {
   "cell_type": "markdown",
   "metadata": {},
   "source": [
    "## Reto de programación 1. \n",
    "Escriba un programa que reciba dos números complejos y devuelva su suma y su producto."
   ]
  },
  {
   "cell_type": "code",
   "execution_count": 23,
   "metadata": {},
   "outputs": [
    {
     "name": "stdout",
     "output_type": "stream",
     "text": [
      "c_1 = -3 + 1 i\n",
      "c_2 = 5 + 2 i\n",
      "c_1 + c_2 = 2 + 3 i\n",
      "c_1 - c_2 = -8 + -1 i\n",
      "c_1 * c_2 = -17 + -1 i\n"
     ]
    }
   ],
   "source": [
    "nr = -3\n",
    "ni = 1\n",
    "mr = 5\n",
    "mi = 2\n",
    "sumar = nr + mr\n",
    "sumai = ni + mi\n",
    "prodr = nr*mr - ni*mi\n",
    "prodi = nr*mi + ni*mr\n",
    "restar = nr - mr\n",
    "restai = ni - mi\n",
    "print(\"c_1 =\", nr, \"+\", ni, \"i\")\n",
    "print(\"c_2 =\", mr, \"+\", mi, \"i\")\n",
    "print(\"c_1 + c_2 =\", sumar, \"+\", sumai, \"i\")\n",
    "print(\"c_1 - c_2 =\", restar, \"+\", restai, \"i\")\n",
    "print(\"c_1 * c_2 =\", prodr, \"+\", prodi, \"i\")"
   ]
  },
  {
   "cell_type": "markdown",
   "metadata": {},
   "source": [
    "## Reto de programación 2.\n",
    "Escriba un programa que reciba un número complejo y devuelva su módulo y su conjugado."
   ]
  },
  {
   "cell_type": "code",
   "execution_count": 22,
   "metadata": {},
   "outputs": [
    {
     "name": "stdout",
     "output_type": "stream",
     "text": [
      "c = 5 + 2 i\n",
      "|c| = 5.385164807134504\n",
      "conj(c) = 5 + -2 i\n"
     ]
    }
   ],
   "source": [
    "nr = 5\n",
    "ni = 2\n",
    "modulo = np.sqrt(nr**2 + ni**2)\n",
    "conjr = nr\n",
    "conji = -ni\n",
    "print(\"c =\", nr, \"+\", ni, \"i\")\n",
    "print(\"|c| =\", modulo)\n",
    "print(\"conj(c) =\", conjr, \"+\", conji, \"i\")"
   ]
  },
  {
   "cell_type": "markdown",
   "metadata": {},
   "source": [
    "## Reto de programación 3. \n",
    "Escriba un programa que reciba dos números complejos y devuelva su división."
   ]
  },
  {
   "cell_type": "markdown",
   "metadata": {},
   "source": [
    "## Reto de programación 4. \n",
    "Escriba un programa que convierta un número complejo en forma rectangular a forma polar y viceversa."
   ]
  },
  {
   "cell_type": "code",
   "execution_count": null,
   "metadata": {},
   "outputs": [],
   "source": []
  }
 ],
 "metadata": {
  "kernelspec": {
   "display_name": "Python 3",
   "language": "python",
   "name": "python3"
  },
  "language_info": {
   "codemirror_mode": {
    "name": "ipython",
    "version": 3
   },
   "file_extension": ".py",
   "mimetype": "text/x-python",
   "name": "python",
   "nbconvert_exporter": "python",
   "pygments_lexer": "ipython3",
   "version": "3.6.7"
  }
 },
 "nbformat": 4,
 "nbformat_minor": 2
}
