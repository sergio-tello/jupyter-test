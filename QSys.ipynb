{
 "cells": [
  {
   "cell_type": "markdown",
   "metadata": {},
   "source": [
    "# <font color=\"firebrick\"> CNYT Ciencias Naturales y Tecnología </font>\n",
    "# <font color=\"firebrick\"> Introducción a la Computación Cuántica </font>\n",
    "### <font color=\"firebrick\"> Escuela Colombiana de Ingeniería Julio Garavito 2019-2 </font>\n",
    "\n",
    "***"
   ]
  },
  {
   "cell_type": "markdown",
   "metadata": {},
   "source": [
    "# Teoría cuántica básica\n",
    "\n",
    "### El experimento de Stern-Gerlach y el *spin*\n",
    "\n",
    "<img src=\"S-G.png\"\n",
    "     style=\"float: center\" />"
   ]
  },
  {
   "cell_type": "markdown",
   "metadata": {},
   "source": [
    "# Conceptos\n",
    "\n",
    "* Probabilidad de que el sistema se encuentre en un estado básico después de realizarse una observación \n",
    "* Vectores estado y sus múltiplos\n",
    "* Vector normalizado\n",
    "* Spin \n",
    "* Notación de Dirac: bra y ket\n",
    "* Amplitud de transición de un estado inicial a un estado final\n",
    "* Observables: vectores y valores propios\n",
    "* Valor esperado y varianza\n",
    "* Valor esperado y varianza de un observable con respecto a un estado dado\n",
    "* Conmutador"
   ]
  },
  {
   "cell_type": "code",
   "execution_count": 1,
   "metadata": {},
   "outputs": [],
   "source": [
    "# Importación de librerías\n",
    "import numpy as np\n",
    "import matplotlib.pyplot as plt\n",
    "import OperacionesNumerosComplejos as nc\n",
    "import VectoresYMatrices as vm"
   ]
  },
  {
   "cell_type": "markdown",
   "metadata": {},
   "source": [
    "# Ejemplo 1: Partícula sobre una línea\n",
    "\n",
    "<img src=\"line.png\"\n",
    "     style=\"float: center\" />\n",
    "     \n",
    "Estado del sistema:\n",
    "\n",
    "$$|\\psi\\rangle = c_0|x_0\\rangle + c_1|x_1\\rangle + c_2|x_2\\rangle + c_3|x_3\\rangle + c_4|x_4\\rangle + c_5|x_5\\rangle$$\n",
    "\n",
    "Probabilidad de que el sistema se encuentre en el estado $i$ después de ser observado:\n",
    "\n",
    "$$\\mathrm{P}_i = \\frac{|c_i|^2}{|\\ |\\psi\\rangle \\ |^2} = \\frac{|c_i|^2}{|c_0|^2 + |c_1|^2 + |c_2|^2 + |c_3|^2 + |c_4|^2 + |c_5|^2}$$\n",
    "\n",
    "Lo cual se denota por:\n",
    "\n",
    "$$ |\\psi\\rangle \\leadsto |x_i\\rangle$$"
   ]
  },
  {
   "cell_type": "code",
   "execution_count": 2,
   "metadata": {},
   "outputs": [
    {
     "name": "stdout",
     "output_type": "stream",
     "text": [
      "Vector de probabilidades: [0.072 0.358 0.072 0.233 0.265]\n"
     ]
    },
    {
     "data": {
      "image/png": "[encoded data removed]",
      "text/plain": [
       "<Figure size 432x288 with 1 Axes>"
      ]
     },
     "metadata": {
      "needs_background": "light"
     },
     "output_type": "display_data"
    }
   ],
   "source": [
    "# Estado genérico del sistema de posición de una partícula sobre una línea.\n",
    "psi = [[[2, -1]],\n",
    "       [[3, 4]],\n",
    "       [[-1, 2]],\n",
    "       [[4, 0.5]],\n",
    "       [[-3.5, 2.5]]\n",
    "      ]\n",
    "\n",
    "psi = vm.escalar_por_matriz([1,0], psi) # En esta línea podemos investigar qué pasa con múltiplos escalares del vector estado.\n",
    "\n",
    "# Cálculo de las probabilidades P_i\n",
    "\n",
    "probs = vm.matriz_cero(len(psi), 1)\n",
    "\n",
    "for i in range(len(psi)):\n",
    "    probs[i] = nc.modulo(psi[i][0])**2 / vm.norma_vector(psi)**2  \n",
    "\n",
    "\n",
    "# Impresión de la distribución de probabilidades\n",
    "probs = np.round(probs, 3)  \n",
    "\n",
    "print('Vector de probabilidades:', probs)\n",
    "labels = ['x_0', 'x_1', 'x_2', 'x_3', 'x_4']\n",
    "index = np.arange(len(labels))\n",
    "plt.bar(index, probs, color='tomato')\n",
    "plt.xlabel('Estado')\n",
    "plt.ylabel('Valor')\n",
    "plt.xticks(index, labels, rotation=90)\n",
    "plt.title('Distribución de probabilidad de los estados básicos')\n",
    "plt.show()"
   ]
  },
  {
   "cell_type": "markdown",
   "metadata": {},
   "source": [
    "En general, trabajaremos con vectores **normalizados**, es decir, con norma 1. Para normalizar un vector simplemente lo dividimos entre su norma:\n",
    "\n",
    "$$ \\text{Vector original: } \\quad |\\psi\\rangle \\qquad \\longrightarrow \\qquad \\frac{|\\psi\\rangle}{|\\ |\\psi\\rangle \\ |} \\qquad \\text{Vector normalizado}$$\n",
    "\n",
    "Todo lo anterior es válido y se generaliza para cualquier sistema cuántico."
   ]
  },
  {
   "cell_type": "markdown",
   "metadata": {},
   "source": [
    "# Ejemplo 2: Spin (con respecto al eje $z$)\n",
    "\n",
    "<img src=\"spin.png\"\n",
    "     style=\"float: center\" />\n",
    "     \n",
    "Estado del sistema:\n",
    "\n",
    "$$|\\psi\\rangle = c_0|\\uparrow\\rangle + c_1|\\downarrow\\rangle$$\n",
    "\n",
    "Probabilidad de que el sistema se encuentre en el estado $\\uparrow$ después de ser observado:\n",
    "\n",
    "$$\\mathrm{P}_{\\uparrow} = \\frac{|c_0|^2}{|\\ |\\psi\\rangle \\ |^2} = \\frac{|c_0|^2}{|c_0|^2 + |c_1|^2}$$\n",
    "\n",
    "Lo cual se denota por:\n",
    "\n",
    "$$ |\\psi\\rangle \\leadsto |\\uparrow\\rangle$$\n",
    "\n",
    "Respectivamente, tenemos:\n",
    "\n",
    "Probabilidad de que el sistema se encuentre en el estado $\\downarrow$ después de ser observado:\n",
    "\n",
    "$$\\mathrm{P}_{\\downarrow} = \\frac{|c_1|^2}{|\\ |\\psi\\rangle \\ |^2} = \\frac{|c_0|^2}{|c_0|^2 + |c_1|^2}$$\n",
    "\n",
    "Lo cual se denota por:\n",
    "\n",
    "$$ |\\psi\\rangle \\leadsto |\\downarrow\\rangle$$"
   ]
  },
  {
   "cell_type": "code",
   "execution_count": 3,
   "metadata": {},
   "outputs": [
    {
     "name": "stdout",
     "output_type": "stream",
     "text": [
      "Vector de probabilidades: [0.839 0.161]\n"
     ]
    },
    {
     "data": {
      "image/png": "[encoded data removed]",
      "text/plain": [
       "<Figure size 432x288 with 1 Axes>"
      ]
     },
     "metadata": {
      "needs_background": "light"
     },
     "output_type": "display_data"
    }
   ],
   "source": [
    "# Estado genérico del sistema de spin (con respecto al eje z) de una partícula.\n",
    "psi = [[[9, -7]],\n",
    "       [[-3, 4]],\n",
    "      ]\n",
    "\n",
    "psi = vm.escalar_por_matriz([1,0], psi) # En esta línea podemos investigar qué pasa con múltiplos escalares del vector estado.\n",
    "\n",
    "# Cálculo de las probabilidades P_i\n",
    "\n",
    "probs = vm.matriz_cero(len(psi), 1)\n",
    "\n",
    "for i in range(len(psi)):\n",
    "    probs[i] = nc.modulo(psi[i][0])**2 / vm.norma_vector(psi)**2  \n",
    "\n",
    "\n",
    "# Impresión de la distribución de probabilidades\n",
    "probs = np.round(probs, 3)  \n",
    "\n",
    "print('Vector de probabilidades:', probs)\n",
    "labels = ['up', 'down']\n",
    "index = np.arange(len(labels))\n",
    "plt.bar(index, probs, color='tomato')\n",
    "plt.xlabel('Estado')\n",
    "plt.ylabel('Valor')\n",
    "plt.xticks(index, labels, rotation=0)\n",
    "plt.title('Distribución de probabilidad de los estados básicos')\n",
    "plt.show()"
   ]
  },
  {
   "cell_type": "markdown",
   "metadata": {},
   "source": [
    "## Amplitud de transición de un estado inicial a un estado final\n",
    "\n",
    "Aunque este concepto es delicado y esta operación carece de sentido al aplicarla indiscriminadamente, vale la pena que mencionemos esto y lo tengamos presente\n",
    "\n",
    "$$ \\text{Estado inicial: } \\quad |\\psi\\rangle \\qquad \\leadsto \\qquad |\\phi\\rangle \\quad \\text{Estado final (después de hacerse una observación del sistema)}$$\n",
    "\n",
    "La *amplitud de transición* de $|\\psi\\rangle$ a $|\\phi\\rangle$ (donde los vectores deben encontrarse normalizados) se define como:\n",
    "\n",
    "$$ \\langle \\phi , \\psi \\rangle = \\langle \\phi | \\psi \\rangle = \\langle \\phi || \\psi \\rangle = |\\phi\\rangle^{\\dagger}|\\psi\\rangle  $$\n",
    "\n",
    "# Importante: primero el *final* y después el *inicial*\n",
    "\n",
    "### Notación bra-ket de Dirac\n",
    "\n",
    "* Ket: $|\\phi\\rangle$ (vector columna)\n",
    "* Bra: $\\langle \\psi| = |\\psi\\rangle^{\\dagger}$ (vector fila)\n",
    "* Braket: $\\langle \\phi, \\psi \\rangle$ o $\\langle \\phi | \\psi \\rangle$ (producto interno)"
   ]
  },
  {
   "cell_type": "code",
   "execution_count": 4,
   "metadata": {},
   "outputs": [
    {
     "name": "stdout",
     "output_type": "stream",
     "text": [
      "Amplitud de transición de psi a phi: [9, -7]\n"
     ]
    }
   ],
   "source": [
    "# Estado genérico del sistema de spin (con respecto al eje z) de una partícula.\n",
    "psi = [[[9, -7]],\n",
    "       [[-3, 4]],\n",
    "      ]\n",
    "# Estado final del sistema de spin (inicialmente es 'up')\n",
    "phi = [[[1, 0]],\n",
    "       [[0, 0]],\n",
    "      ]\n",
    "\n",
    "# Amplitud de transición de psi a phi\n",
    "amplitud_tr = vm.producto_interno(phi, psi)\n",
    "print('Amplitud de transición de psi a phi:', amplitud_tr)"
   ]
  },
  {
   "cell_type": "markdown",
   "metadata": {},
   "source": [
    "## ¡Cuidado!\n",
    "\n",
    "## Ahora comparemos con"
   ]
  },
  {
   "cell_type": "code",
   "execution_count": 5,
   "metadata": {},
   "outputs": [
    {
     "name": "stdout",
     "output_type": "stream",
     "text": [
      "Amplitud de transición de psi a phi: [0.722897396012249, -0.5622535302317492]\n"
     ]
    }
   ],
   "source": [
    "# Estado genérico del sistema de spin (con respecto al eje z) de una partícula.\n",
    "psi = [[[9, -7]],\n",
    "       [[-3, 4]],\n",
    "      ]\n",
    "# Estado final del sistema de spin (inicialmente es 'up')\n",
    "phi = [[[1, 0]],\n",
    "       [[0, 0]],\n",
    "      ]\n",
    "\n",
    "# Amplitud de transición de psi a phi\n",
    "psi = vm.escalar_por_matriz([1/vm.norma_vector(psi),0],psi)\n",
    "phi = vm.escalar_por_matriz([1/vm.norma_vector(phi),0],phi)\n",
    "amplitud_tr = vm.producto_interno(phi, psi)\n",
    "print('Amplitud de transición de psi a phi:', amplitud_tr)\n"
   ]
  },
  {
   "cell_type": "markdown",
   "metadata": {},
   "source": [
    "### ¿Qué pasa si tomamos el módulo al cuadrado de este número?"
   ]
  },
  {
   "cell_type": "code",
   "execution_count": 6,
   "metadata": {},
   "outputs": [
    {
     "name": "stdout",
     "output_type": "stream",
     "text": [
      "0.8387096774193546\n"
     ]
    }
   ],
   "source": [
    "p = nc.modulo(amplitud_tr)**2\n",
    "print(p)"
   ]
  },
  {
   "cell_type": "markdown",
   "metadata": {},
   "source": [
    "# Observables\n",
    "\n",
    "<img src=\"spin3d.png\"\n",
    "     style=\"float: center\" />\n",
    "     \n",
    "Como vemos del sistema de ejes, podemos medir el spin con respecto a los ejes $x$ e $y$. Todo aquello que podamos medir de un sistema cuántico estará representado por un **observable** $\\Omega$. Un *observable* es un operador autoadjunto o, equivalentemente, una matriz hermitiana.\n",
    "\n",
    "Los observables para el spin con respecto a los ejes $z$, $x$ e $y$ son:\n",
    "\n",
    "$$S_z = \\frac{\\hbar}{2}\\begin{bmatrix} 1 & 0 \\\\ 0 & -1\\end{bmatrix} $$\n",
    "\n",
    "$$S_x = \\frac{\\hbar}{2}\\begin{bmatrix} 0 & -i \\\\ i & 0 \\end{bmatrix} $$\n",
    "\n",
    "$$S_y = \\frac{\\hbar}{2}\\begin{bmatrix} 0 & 1 \\\\ 1 & 0\\end{bmatrix} $$"
   ]
  },
  {
   "cell_type": "markdown",
   "metadata": {},
   "source": [
    "## Pero entonces, ¿qué hemos estado midiendo/obervando antes, cuando no hablábamos de obervables?\n",
    "\n",
    "En realidad, sí estabamos usando observables, por ejemplo el observable correspondiente al sistema de posición de la partícula sobre la línea (ejemplo 1) es:\n",
    "\n",
    "$$\\Omega = \\begin{bmatrix} 0 & 0 & 0 & 0 & 0 \\\\ % \n",
    "                  0 & 1 & 0 & 0 & 0 \\\\ %\n",
    "                  0 & 0 & 2 & 0 & 0 \\\\ %\n",
    "                  0 & 0 & 0 & 3 & 0 \\\\ %\n",
    "                  0 & 0 & 0 & 0 & 4 \\end{bmatrix}$$\n",
    "                  \n",
    "## Pero, ¿dónde usamos esa matriz o qué usamos de ella?\n",
    "\n",
    "# Respuesta: Sus vectores propios\n",
    "\n",
    "Los vectores propios de esta matriz son (simplemente):\n",
    "\n",
    "$$V_0 = \\begin{bmatrix} 1 \\\\ 0 \\\\ 0 \\\\ 0 \\\\ 0 \\end{bmatrix}, \\quad %\n",
    "  V_1 = \\begin{bmatrix} 0 \\\\ 1 \\\\ 0 \\\\ 0 \\\\ 0 \\end{bmatrix}, \\quad %\n",
    "  V_2 = \\begin{bmatrix} 0 \\\\ 0 \\\\ 1 \\\\ 0 \\\\ 0 \\end{bmatrix}, \\quad %\n",
    "  V_3 = \\begin{bmatrix} 0 \\\\ 0 \\\\ 0 \\\\ 1 \\\\ 0 \\end{bmatrix}, \\quad %\n",
    "  V_4 = \\begin{bmatrix} 0 \\\\ 0 \\\\ 0 \\\\ 0 \\\\ 1 \\end{bmatrix}$$ \n",
    "  \n",
    "Es decir, los vectores correspondientes a los **estados básicos**.\n",
    "\n",
    "Como cada vector propio está asociado a un **valor propio**, éstos también van a ser importantes, denotarán el valor que registrará nuestro instrumento de medición (en algún sistema de unidades) tras observar el sistema.\n",
    "\n",
    "Los valores propios correspondientes a cada uno de estos vectores propios son:\n",
    "\n",
    "$$ \\lambda_0 = 0, \\lambda_1 = 1, \\lambda_2 = 2, \\lambda_3 = 3, \\lambda_4 = 4$$\n",
    "\n",
    "Que, por ejemplo, podrían denotar a cuántas unidades de distancia nos encontramos con respecto al origen, que sería el punto $x_0$."
   ]
  },
  {
   "cell_type": "markdown",
   "metadata": {},
   "source": [
    "# Importante: Los valores propios de una matriz hermitiana siempre son números reales. Sus vectores propios siempre forman una base ortogonal (y si se toman normalizados, formarán una base ortonormal)"
   ]
  },
  {
   "cell_type": "markdown",
   "metadata": {},
   "source": [
    "## Veamos cuáles son los vectores y valores propios correspondientes a los observables para el spin (vamos a omitir el factor $\\frac{\\hbar}{2}$)\n",
    "\n",
    "$$S_z = \\begin{bmatrix} 1 & 0 \\\\ 0 & -1\\end{bmatrix}, \\quad V_0 = \\begin{bmatrix} 1 \\\\ 0 \\end{bmatrix},  %\n",
    "                                                                           V_1 = \\begin{bmatrix} 0 \\\\ 1 \\end{bmatrix},  %\n",
    "                                                                     \\quad \\lambda_0 = 1, \\lambda_1 = -1$$\n",
    "\n",
    "$$S_y = \\begin{bmatrix} 0 & -i \\\\ i & 0 \\end{bmatrix}, \\quad V_0 = \\begin{bmatrix} 1/\\sqrt{2} \\\\ i/\\sqrt{2} \\end{bmatrix},  %\n",
    "                                                                           V_1 = \\begin{bmatrix} i/\\sqrt{2} \\\\ 1/\\sqrt{2} \\end{bmatrix},  %\n",
    "                                                                     \\quad \\lambda_0 = 1, \\lambda_1 = -1$$\n",
    "\n",
    "\n",
    "$$S_y = \\begin{bmatrix} 0 & 1 \\\\ 1 & 0\\end{bmatrix}, \\quad V_0 = \\begin{bmatrix} 1/\\sqrt{2} \\\\ 1/\\sqrt{2} \\end{bmatrix},  %\n",
    "                                                                           V_1 = \\begin{bmatrix} 1/\\sqrt{2} \\\\ -1/\\sqrt{2} \\end{bmatrix},  %\n",
    "                                                                     \\quad \\lambda_0 = 1, \\lambda_1 = -1$$\n",
    " "
   ]
  },
  {
   "cell_type": "markdown",
   "metadata": {},
   "source": [
    "# Conceptos de valor esperado y varianza\n",
    "\n",
    "<img src=\"dado.jpg\"\n",
    "     style=\"float: center\" />\n",
    "<img src=\"estadistica.png\"\n",
    "     style=\"float: center\" />"
   ]
  },
  {
   "cell_type": "markdown",
   "metadata": {},
   "source": [
    "## Apliquemos estos conceptos a los sistemas cuánticos\n",
    "\n",
    "* **Valor esperado de un observable $\\Omega$ con respecto a un estado $\\psi$:**\n",
    "\n",
    "$$\\langle \\Omega \\rangle_{\\psi} = \\langle \\Omega\\psi, \\psi \\rangle = \\langle \\psi, \\Omega\\psi \\rangle$$\n",
    "\n",
    "* **Operador $\\Delta$ con valor esperado 0** de un observable $\\Omega$ con respecto a un estado $\\psi$:\n",
    "\n",
    "$$\\Delta(\\Omega)_{\\psi} = \\Omega - \\langle \\Omega \\rangle_{\\psi}  I $$\n",
    "\n",
    "* **Varianza** de un observable $\\Omega$ con respecto a un estado $\\psi$:\n",
    "\n",
    "$$\\langle \\Delta(\\Omega)_{\\psi} \\star \\Delta(\\Omega)_{\\psi}  \\rangle_{\\psi}$$"
   ]
  },
  {
   "cell_type": "code",
   "execution_count": 7,
   "metadata": {},
   "outputs": [
    {
     "name": "stdout",
     "output_type": "stream",
     "text": [
      "Valor esperado de Omega con respecto al estado psi: [0.19354838709677424, 0.0]\n",
      "Varianza de Omega con respecto al estado psi: [0.9625390218522374, -2.7755575615628914e-17]\n",
      "Desviación estándar de Omega con respecto al estado psi: 0.9810907306932614\n"
     ]
    }
   ],
   "source": [
    "# Estado genérico del sistema de spin \n",
    "psi = [[[9, -7]],\n",
    "       [[-3, 4]]\n",
    "      ]\n",
    "\n",
    "#psi = [[[1/np.sqrt(2), 0]],\n",
    "#       [[0, 1/np.sqrt(2)]]\n",
    "#      ]\n",
    "\n",
    "\n",
    "# Estado normalizado\n",
    "psi = vm.escalar_por_matriz([1/vm.norma_vector(psi),0], psi)\n",
    "\n",
    "# Observable (S_y) \n",
    "\n",
    "Omega = [[[0,0],[0,-1]],\n",
    "         [[0,1],[0,0]]\n",
    "        ]\n",
    "# Valor esperado\n",
    "VE = vm.producto_interno(vm.producto_de_matrices(Omega, psi) ,psi)\n",
    "print('Valor esperado de Omega con respecto al estado psi:', VE)\n",
    "\n",
    "# Definición del operador Delta\n",
    "I = [[[1,0],[0,0]],\n",
    "     [[0,0],[1,0]]\n",
    "    ]\n",
    "Delta = vm.suma_de_matrices(Omega, vm.escalar_por_matriz([-1*VE[0],0], I))\n",
    "\n",
    "# Varianza del observable Omega con respecto al estado psi\n",
    "\n",
    "DeltaCuadrado = vm.producto_de_matrices(Delta, Delta)\n",
    "Var = vm.producto_interno(vm.producto_de_matrices(DeltaCuadrado, psi) ,psi)\n",
    "print('Varianza de Omega con respecto al estado psi:', Var )\n",
    "print('Desviación estándar de Omega con respecto al estado psi:', Var[0]**0.5)"
   ]
  },
  {
   "cell_type": "markdown",
   "metadata": {},
   "source": [
    "# Conmutador\n",
    "\n",
    "El *conmutador* de dos observables se define como:\n",
    "\n",
    "$$[\\Omega_1, \\Omega_2] = \\Omega_1\\star\\Omega_2 - \\Omega_2\\star\\Omega_1$$"
   ]
  },
  {
   "cell_type": "code",
   "execution_count": null,
   "metadata": {},
   "outputs": [],
   "source": []
  }
 ],
 "metadata": {
  "kernelspec": {
   "display_name": "Python 3",
   "language": "python",
   "name": "python3"
  },
  "language_info": {
   "codemirror_mode": {
    "name": "ipython",
    "version": 3
   },
   "file_extension": ".py",
   "mimetype": "text/x-python",
   "name": "python",
   "nbconvert_exporter": "python",
   "pygments_lexer": "ipython3",
   "version": "3.7.3"
  }
 },
 "nbformat": 4,
 "nbformat_minor": 2
}
