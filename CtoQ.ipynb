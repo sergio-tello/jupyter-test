{
 "cells": [
  {
   "cell_type": "markdown",
   "metadata": {},
   "source": [
    "# CNYT Ciencias Naturales y Tecnología\n",
    "# Introducción a la Computación Cuántica\n",
    "### Escuela Colombiana de Ingeniería Julio Garavito 2019-2\n",
    "***"
   ]
  },
  {
   "cell_type": "markdown",
   "metadata": {},
   "source": [
    "# El salto de lo clásico a lo cuántico\n",
    "\n",
    "\n",
    "<img src=\"leap0.jpg\"\n",
    "     style=\"float: center\" />"
   ]
  },
  {
   "cell_type": "markdown",
   "metadata": {},
   "source": [
    "# 0. Introducción\n",
    "\n",
    "En este documento vamos a estudiar dos ejemplos muy instructivos y sencillos de **sistemas**.\n",
    "\n",
    "Cuando describimos un sistema, éste permanece en modo **estático** hasta que especifiquemos cómo evolucionará en el tiempo y ejecutemos dicha transformación. Como concepto fundamental de este capítulo aparece la noción de **dinámica**, que no será otra cosa que la acción de matrices sobre los vectores de estado para producir nuevos estados que representan la evolución del sistema. \n",
    "\n",
    "La dinámica de un sistema se puede enfocar desde cada uno de los siguientes puntos de vista:\n",
    "\n",
    "* **Clásico determinista**\n",
    "* **Probabilístico** (estocástico)\n",
    "* **Cuántico**\n",
    "\n",
    "\n",
    "Con el fin de establecer comparaciones útiles, iremos viendo dinámicas para nuestros sistemas ejemplo para cada uno de los enfoques anteriores.\n",
    "\n",
    "Además, dentro de cada uno de estos tres enfoques, tendremos la oportunidad de ensamblar nuestros dos sistemas ejemplo. Esto nos permitirá reforzar el concepto de producto tensorial y visualizar una aplicación concreta de esta nueva operación.\n"
   ]
  },
  {
   "cell_type": "markdown",
   "metadata": {},
   "source": [
    "# 0.1 Sistema 1: Posición\n",
    "\n",
    "Los estados básicos de este sistema son 4 puntos diferentes en el espacio en los que podemos encontrar una partícula:\n",
    "\n",
    "<img src=\"leap1.jpg\"\n",
    "     style=\"float: center\" width=\"800\" />\n",
    "     \n",
    "Cada uno de estos estados lo describiremos mediante un vector. Notemos que el vector no tiene nada que ver con la disposición geométrica de los puntos. Es sólo un nombre, una asignación abstracta.\n",
    "$$\\text{Pto. 0} = \\begin{bmatrix} 1 \\\\ 0 \\\\ 0 \\\\ 0\\end{bmatrix}, \\quad \n",
    "  \\text{Pto. 1} = \\begin{bmatrix} 0 \\\\ 1 \\\\ 0 \\\\ 0\\end{bmatrix}, \\quad \n",
    "  \\text{Pto. 2} = \\begin{bmatrix} 0 \\\\ 0 \\\\ 1 \\\\ 0\\end{bmatrix}, \\quad \n",
    "  \\text{Pto. 3} = \\begin{bmatrix} 0 \\\\ 0 \\\\ 0 \\\\ 1\\end{bmatrix}. $$\n",
    "  \n",
    "\n",
    "## Preguntas:\n",
    "\n",
    "* ¿Cuál es la dimensión de este sistema?\n"
   ]
  },
  {
   "cell_type": "markdown",
   "metadata": {},
   "source": [
    "# 0.2 Sistema 2: Color\n",
    "\n",
    "Los estados básicos de este sistema son 2 posibles colores que puede tomar la partícula:\n",
    "\n",
    "<img src=\"leap2.jpg\"\n",
    "     style=\"float: center\" width=\"500\" />\n",
    "     \n",
    "Cada uno de estos estados también lo describiremos mediante un vector. Notemos nuevamente que la asignación de un vector a un estado es una asignación abstracta.\n",
    "\n",
    "$$\\text{Color 0} = \\begin{bmatrix} 1 \\\\ 0 \\end{bmatrix}, \\quad \n",
    "  \\text{Color 1} = \\begin{bmatrix} 0 \\\\ 1 \\end{bmatrix}. $$\n",
    "  \n",
    "\n",
    "## Preguntas:\n",
    "\n",
    "* ¿Cuál es la dimensión de este sistema?"
   ]
  },
  {
   "cell_type": "markdown",
   "metadata": {},
   "source": [
    "# 0.3 Ensamble de Posición + Color\n",
    "\n",
    "Este sistema que ensambla los sistemas 1 y 2, representa todos los posibles estados de una partícula que además de moverse por el espacio ocupando 4 distintas posiciones posibles, también puede tener una característica de color. Esto lo podemos representar de la siguiente manera:\n",
    "\n",
    "<img src=\"leap3.jpg\"\n",
    "     style=\"float: center\" width=\"500\" />\n",
    "     \n",
    "\n",
    "## Preguntas:\n",
    "\n",
    "* ¿Cuántos estados posibles tiene el nuevo sistema ensamblado?\n",
    "\n",
    "Cada uno de estos estados también lo describiremos mediante un vector. Sin embargo, la asignación de nombres no la haremos de manera arbitraria sino que recurriremos a las asignaciones que ya teníamos y las combinaremos usando el producto tensorial:\n",
    "\n",
    "$$\\text{Pto. 0 y Color 0} = \\begin{bmatrix} 1 \\\\ 0 \\\\ 0 \\\\ 0\\end{bmatrix} \\otimes \\begin{bmatrix} 1 \\\\ 0 \\end{bmatrix} =\n",
    "   \\begin{bmatrix} 1 \\\\ 0 \\\\ 0 \\\\ 0 \\\\ 0 \\\\ 0 \\\\ 0 \\\\ 0\\end{bmatrix}, \\quad \n",
    "  \\text{Pto. 0 y Color 1} = \\begin{bmatrix} 1 \\\\ 0 \\\\ 0 \\\\ 0\\end{bmatrix} \\otimes \\begin{bmatrix} 0 \\\\ 1 \\end{bmatrix} =\n",
    "  \\begin{bmatrix} 0 \\\\ 1 \\\\ 0 \\\\ 0 \\\\ 0 \\\\ 0 \\\\ 0 \\\\ 0\\end{bmatrix}. $$\n",
    "  \n",
    "De esta manera, podemos construir todos los estados básicos del sistema ensamblado.\n",
    "\n",
    "## Ejercicios:\n",
    "\n",
    "* ¿Cuál sería el estado correspondiente a la siguiente descripción: \"La partícula está en el punto 2 y su color es el color 1\"?\n",
    "\n",
    "## Preguntas:\n",
    "\n",
    "* ¿Cuál es la dimensión de este nuevo sistema ensamblado?\n"
   ]
  },
  {
   "cell_type": "markdown",
   "metadata": {},
   "source": [
    "# 1.  Dinámicas desde el punto de vista clásico determinista\n",
    "\n",
    "\n",
    "## 1.1 Sistema 1 de Posición\n",
    "\n",
    "Vamos a describir la dinámica para la posición mediante unas flechas de direccionalidad del movimiento que va a tener la partícula dentro de nuestro sistema 1. Luego, codificaremos ese diagrama de flechas o grafo dirigido (digrafo) por medio de una matriz.\n",
    "\n",
    "<img src=\"leap11.jpg\"\n",
    "     style=\"float: center\" width=\"500\" />\n",
    "     \n",
    "Es importante que establezcamos una manera de codificar este grafo de la dinámica en una matriz, para que la operación de producto de matriz por vector (acción) tenga el sentido de evolución en el tiempo, movimiento, cambio o dinámica que queremos. La codificación se dará de la siguiente manera:\n",
    "\n",
    "Si hay una flecha del estado 3 al estado 1, vamos a colocar un 1 en la posición correspondiente a la **columna** 3 y **fila** 1:\n",
    "\n",
    "$$M = \\begin{bmatrix} <> &  <> &  <> & <>  \\\\ <> & <> & <> & 1 \\\\ <> &  <> & <> & <> \\\\ <> & <> & <> & <> \\end{bmatrix} $$\n",
    "\n",
    "La ausencia de flechas se representa por medio de un $0$.\n",
    "\n",
    "## Ejercicios:\n",
    "\n",
    "* Acabar de rellenar la matriz $M$.\n",
    "\n",
    "La matriz completa nos queda de la siguiente manera:\n",
    "\n",
    "$$M = \\begin{bmatrix} 0 &  0 &  0 & 0  \\\\ 0 & 0 & 0 & 1 \\\\ 0 &  1 & 1 & 0 \\\\ 1 & 0 & 0 & 0 \\end{bmatrix} $$\n",
    "\n",
    "Notemos que si nuestro estado inicial es el Pto. 3, entonces la siguiente operación entre la matriz $M$ y el vector correspondiente a nuestro estado inicial $V^{T} = [0, 0, 0, 1]$, nos da como resultado:\n",
    "\n",
    "$$M\\star V = \\begin{bmatrix} 0 &  0 &  0 & 0  \\\\ 0 & 0 & 0 & 1 \\\\ 0 &  1 & 1 & 0 \\\\ 1 & 0 & 0 & 0 \\end{bmatrix}\\star\n",
    "\\begin{bmatrix} 0 \\\\ 0 \\\\ 0 \\\\ 1 \\end{bmatrix} = \\begin{bmatrix} 0 \\\\ 1 \\\\ 0 \\\\ 0 \\end{bmatrix}$$\n",
    "\n",
    "Este vector resultante es el que corresponde al estado de localización en el Pto. 1, lo cual es consistente con nuestro grafo. La acción $M \\star V$ nos da como resultado el estado del sistema después de 1 click temporal.\n",
    "\n",
    "\n",
    "\n",
    "Es hora de hacer una demostración con Python: Nuestro programa recibirá un estado inicial, la matriz de la dinámica del sistema y un número entero correspondiente al número de clicks que avanzaremos en el tiempo. Como resultado nos dará el estado final del sistema."
   ]
  },
  {
   "cell_type": "code",
   "execution_count": 24,
   "metadata": {},
   "outputs": [],
   "source": [
    "# Importación de librerías\n",
    "import numpy as np\n",
    "import matplotlib.pyplot as plt\n",
    "import OperacionesNumerosComplejos as nc\n",
    "import VectoresYMatrices as vm\n",
    "%matplotlib inline"
   ]
  },
  {
   "cell_type": "code",
   "execution_count": 25,
   "metadata": {},
   "outputs": [
    {
     "name": "stdout",
     "output_type": "stream",
     "text": [
      "Vector estado final: [[[1, 0]], [[0, 0]], [[0, 0]], [[0, 0]]]\n"
     ]
    },
    {
     "data": {
      "image/png": "[encoded data removed]",
      "text/plain": [
       "<Figure size 432x288 with 1 Axes>"
      ]
     },
     "metadata": {
      "needs_background": "light"
     },
     "output_type": "display_data"
    }
   ],
   "source": [
    "# Vector de estado inicial\n",
    "V = [[[1,0]],[[0,0]],[[0,0]],[[0,0]]]\n",
    "     \n",
    "# Matriz de la dinámica\n",
    "M = [[[0,0],[0,0],[0,0],[0,0]],[[0,0],[0,0],[0,0],[1,0]],[[0,0],[1,0],[1,0],[0,0]],[[1,0],[0,0],[0,0],[0,0]]]\n",
    "\n",
    "# Número de clicks temporales\n",
    "clicks = 0\n",
    "\n",
    "# Ciclo para el cálculo de las acciones\n",
    "for t in range(clicks):\n",
    "     V = vm.producto_de_matrices(M, V)\n",
    "\n",
    "print('Vector estado final:', V)\n",
    "labels = ['Pto. 0', 'Pto. 1', 'Pto. 2', 'Pto. 3']\n",
    "estado = [V[0][0][0], V[1][0][0], V[2][0][0], V[3][0][0]]\n",
    "\n",
    "index = np.arange(len(labels))\n",
    "plt.bar(index, estado)\n",
    "plt.xlabel('Estado')\n",
    "plt.ylabel('Valor')\n",
    "plt.xticks(index, labels, rotation=30)\n",
    "plt.title('Evolución dinámica del sistema')\n",
    "plt.show()"
   ]
  },
  {
   "cell_type": "markdown",
   "metadata": {},
   "source": [
    "## Preguntas\n",
    "\n",
    "* ¿Qué va a suceder con nuestro sistema a largo plazo?"
   ]
  },
  {
   "cell_type": "markdown",
   "metadata": {},
   "source": [
    "## 1.2 Sistema 2 de Color\n",
    "\n",
    "\n",
    "<img src=\"leap12.jpg\"\n",
    "     style=\"float: center\" width=\"500\" />\n",
    "     \n",
    "Su matriz asociada es:\n",
    "\n",
    "$$ N = \\begin{bmatrix} 0 & 1 \\\\ 1 & 0 \\end{bmatrix} $$\n",
    "\n",
    "## Preguntas:\n",
    "\n",
    "* ¿Cómo podemos describir el comportamiento de este sistema a lo largo del tiempo, según la dinámica definida?"
   ]
  },
  {
   "cell_type": "code",
   "execution_count": 26,
   "metadata": {},
   "outputs": [],
   "source": [
    "# Matriz de la dinámica del sistema\n",
    "N = [[[0,0],[1,0]],[[1,0],[0,0]]]"
   ]
  },
  {
   "cell_type": "markdown",
   "metadata": {},
   "source": [
    "## 1.3 Sistema ensamblado Posición + Color\n",
    "\n",
    "Una vez definidas dinámicas $M$ y $N$ para nuestros sistemas constituyentes, el sistema ensamblado queda dotado de una dinámica natural: $M \\otimes N$.\n",
    "\n",
    "<img src=\"leap13.jpg\"\n",
    "     style=\"float: center\" width=\"700\" />\n",
    "    \n",
    "\n",
    "## Preguntas:\n",
    "\n",
    "\n",
    "* ¿En que estado de color debe arrancar una partícula cuyo estado inicial de posición es el Pto. 3 para que al llegar al Pto. 1 su color sea Azul (Color 0)?\n",
    "\n",
    "* ¿En que estado de color debe arrancar una partícula cuyo estado inicial de posición es el Pto. 0 para que al llegar al Pto. 1 su color sea Azul (Color 0)?\n",
    "\n",
    "* Una partícula arranca en el Pto. 3 en el estado de Color 1, ¿cuál será su estado 5 clicks después?"
   ]
  },
  {
   "cell_type": "markdown",
   "metadata": {},
   "source": [
    "Comprobemos nuestras respuestas usando nuestra calculadora de vectores y matrices"
   ]
  },
  {
   "cell_type": "code",
   "execution_count": 33,
   "metadata": {},
   "outputs": [
    {
     "name": "stdout",
     "output_type": "stream",
     "text": [
      "Vector estado final: [[[0, 0]], [[0, 0]], [[0, 0]], [[0, 0]], [[1, 0]], [[0, 0]], [[0, 0]], [[0, 0]]]\n"
     ]
    },
    {
     "data": {
      "image/png": "[encoded data removed]",
      "text/plain": [
       "<Figure size 432x288 with 1 Axes>"
      ]
     },
     "metadata": {
      "needs_background": "light"
     },
     "output_type": "display_data"
    }
   ],
   "source": [
    "# Vector de estado inicial posición Pto. 3\n",
    "Ve = [[[0,0]],[[0,0]],[[0,0]],[[1,0]]]\n",
    "# Vector de estado inicial color 1\n",
    "Ce = [[[0,0]],[[1,0]]]\n",
    "# Vector correspondiente al sistema ensamblado\n",
    "VE = vm.producto_tensorial(Ve, Ce)\n",
    "     \n",
    "# Matriz de la dinámica\n",
    "ME = vm.producto_tensorial(M, N)\n",
    "\n",
    "# Número de clicks temporales\n",
    "clicks = 5\n",
    "\n",
    "# Ciclo para el cálculo de las acciones\n",
    "for t in range(clicks):\n",
    "     VE = vm.producto_de_matrices(ME, VE)\n",
    "\n",
    "print('Vector estado final:', VE)\n",
    "labels = ['Pto. 0 - Col 0', 'Pto. 0 - Col 1', 'Pto. 1 - Col 0', 'Pto. 1 - Col 1', 'Pto. 2 - Col 0', 'Pto. 2 - Col 1', 'Pto. 3 - Col 0', 'Pto. 3 - Col 1']\n",
    "estado = [VE[0][0][0], VE[1][0][0], VE[2][0][0], VE[3][0][0], VE[4][0][0], VE[5][0][0], VE[6][0][0], VE[7][0][0]]\n",
    "\n",
    "index = np.arange(len(labels))\n",
    "plt.bar(index, estado)\n",
    "plt.xlabel('Estado')\n",
    "plt.ylabel('Valor')\n",
    "plt.xticks(index, labels, rotation=90)\n",
    "plt.title('Evolución dinámica del sistema')\n",
    "plt.show()"
   ]
  },
  {
   "cell_type": "markdown",
   "metadata": {},
   "source": [
    "# Conclusiones punto de vista clásico determinista\n",
    "\n",
    "* La principal característica de una dinámica clásica determinista es el hecho que de cada punto del grafo salga únicamente una flecha. Es decir, para cada estado del sistema su evolución a otro estado después de un click de tiempo está determinada y prefijada sin ambigüedad."
   ]
  },
  {
   "cell_type": "markdown",
   "metadata": {},
   "source": [
    "# 2. Dinámicas desde un punto de vista probabilístico"
   ]
  },
  {
   "cell_type": "markdown",
   "metadata": {},
   "source": [
    "## 2.1 Sistema 1 de Posición\n",
    "\n",
    "Consideremos el siguiente grafo decorado con pesos (probabilidades de seguir por una determinada flecha).\n",
    "\n",
    "<img src=\"leap21.jpg\"\n",
    "     style=\"float: center\" width=\"700\" />\n",
    "     \n",
    "La matriz corresponidiente a este grafo se contruye de manera semejante a la matriz de la dinámica determinista. En ese caso el número 1 representaba que había 100% de probabilidad de seguir por la (única) flecha que conectaba dos puntos. En esta nueva situación simplemente escribiremos la probabilidad indicada sobre cada flecha.\n",
    "\n",
    "$$M_p = \\begin{bmatrix} 0 & 0.2 & 0.3 & 0.5 \\\\ 0.3 & 0.2 & 0.1 & 0.4 \\\\ 0.4 & 0.3 & 0.2 & 0.1 \\\\ 0.3 & 0.3 & 0.4 & 0 \\end{bmatrix}$$\n",
    "\n",
    "A continuación, podemos investigar qué pasará con la dinámica del sistema a largo plazo."
   ]
  },
  {
   "cell_type": "code",
   "execution_count": 21,
   "metadata": {},
   "outputs": [
    {
     "name": "stdout",
     "output_type": "stream",
     "text": [
      "Vector estado final: [[[1, 0]], [[0, 0]], [[0, 0]], [[0, 0]]]\n"
     ]
    },
    {
     "data": {
      "image/png": "[encoded data removed]",
      "text/plain": [
       "<Figure size 432x288 with 1 Axes>"
      ]
     },
     "metadata": {
      "needs_background": "light"
     },
     "output_type": "display_data"
    }
   ],
   "source": [
    "# Vector de estado inicial\n",
    "Vp = [[[1,0]],[[0,0]],[[0,0]],[[0,0]]]\n",
    "     \n",
    "# Matriz de la dinámica\n",
    "Mp = [[[0,0],[0.2,0],[0.3,0],[0.5,0]],[[0.3,0],[0.2,0],[0.1,0],[0.4,0]],[[0.4,0],[0.3,0],[0.2,0],[0.1,0]],[[0.3,0],[0.3,0],[0.4,0],[0,0]]]\n",
    "\n",
    "# Número de clicks temporales\n",
    "clicks = 0\n",
    "\n",
    "# Ciclo para el cálculo de las acciones\n",
    "for t in range(clicks):\n",
    "     Vp = vm.producto_de_matrices(Mp, Vp)\n",
    "\n",
    "print('Vector estado final:', Vp)\n",
    "labels = ['Pto. 0', 'Pto. 1', 'Pto. 2', 'Pto. 3']\n",
    "estado = [Vp[0][0][0], Vp[1][0][0], Vp[2][0][0], Vp[3][0][0]]\n",
    "\n",
    "index = np.arange(len(labels))\n",
    "plt.bar(index, estado)\n",
    "plt.xlabel('Estado')\n",
    "plt.ylabel('Valor')\n",
    "plt.xticks(index, labels, rotation=30)\n",
    "plt.title('Evolución dinámica del sistema probabilístico')\n",
    "plt.show()"
   ]
  },
  {
   "cell_type": "markdown",
   "metadata": {},
   "source": [
    "## Preguntas\n",
    "\n",
    "* ¿Qué podemos decir del comportamiento de nuestro sistema a largo plazo?\n",
    "* ¿Cuál sería el grafo correspondiente a la transpuesta de nuestra matriz?"
   ]
  },
  {
   "cell_type": "markdown",
   "metadata": {},
   "source": [
    "## 2.2 Sistema 2 de Color\n",
    "\n",
    "Consideremos el siguiente sistema:\n",
    "\n",
    "<img src=\"leap22.jpg\"\n",
    "     style=\"float: center\" width=\"600\" />\n",
    "    \n",
    "\n",
    "Este sistema nos describe las probabilidades de cambiar o mantener el color actual. Su matriz es:\n",
    "\n",
    "$$N_p = \\begin{bmatrix} 0.4 & 0.6 \\\\ 0.6 & 0.4 \\end{bmatrix} $$"
   ]
  },
  {
   "cell_type": "code",
   "execution_count": 36,
   "metadata": {},
   "outputs": [
    {
     "name": "stdout",
     "output_type": "stream",
     "text": [
      "Vector estado final: [[[0.3, 0]], [[0.7, 0]]]\n"
     ]
    },
    {
     "data": {
      "image/png": "[encoded data removed]",
      "text/plain": [
       "<Figure size 432x288 with 1 Axes>"
      ]
     },
     "metadata": {
      "needs_background": "light"
     },
     "output_type": "display_data"
    }
   ],
   "source": [
    "# Vector de estado inicial\n",
    "Vpc = [[[0.3,0]],[[0.7,0]]]\n",
    "     \n",
    "# Matriz de la dinámica\n",
    "Np = [[[0.4,0], [0.6,0]],[[0.6,0],[0.4,0]]]\n",
    "# Número de clicks temporales\n",
    "clicks = 0\n",
    "\n",
    "# Ciclo para el cálculo de las acciones\n",
    "for t in range(clicks):\n",
    "     Vpc = vm.producto_de_matrices(Np, Vpc)\n",
    "\n",
    "print('Vector estado final:', Vpc)\n",
    "labels = ['Color 0', 'Color 1']\n",
    "estado = [Vpc[0][0][0], Vpc[1][0][0]]\n",
    "\n",
    "index = np.arange(len(labels))\n",
    "plt.bar(index, estado)\n",
    "plt.xlabel('Estado')\n",
    "plt.ylabel('Valor')\n",
    "plt.xticks(index, labels, rotation=30)\n",
    "plt.title('Evolución dinámica del sistema probabilístico')\n",
    "plt.show()"
   ]
  },
  {
   "cell_type": "markdown",
   "metadata": {},
   "source": [
    "## 2.3 Sistema probabilístico ensamblado Posición + Color\n",
    "\n",
    "## Preguntas\n",
    "\n",
    "* ¿Cómo podemos representar este sistema gráficamente?\n",
    "* Si el sistema inicia en el estado de posición $[0, 0.5, 0, 0.5]^{T}$ y en estado de color $[0.1, 0.9]^{T}$. ¿Cuál será el estado del sistema después de 2 clicks? ¿En qué estado básico se encontraría más probablemente el sistema después de 2 clicks temporales?"
   ]
  },
  {
   "cell_type": "code",
   "execution_count": 39,
   "metadata": {},
   "outputs": [
    {
     "name": "stdout",
     "output_type": "stream",
     "text": [
      "Vector estado final: [[[0.0, 0.0]], [[0.0, 0.0]], [[0.05, 0.0]], [[0.45, 0.0]], [[0.0, 0.0]], [[0.0, 0.0]], [[0.05, 0.0]], [[0.45, 0.0]]]\n"
     ]
    },
    {
     "data": {
      "image/png": "[encoded data removed]",
      "text/plain": [
       "<Figure size 432x288 with 1 Axes>"
      ]
     },
     "metadata": {
      "needs_background": "light"
     },
     "output_type": "display_data"
    }
   ],
   "source": [
    "# Vector de estado inicial posición \n",
    "Ve = [[[0,0]],[[0.5,0]],[[0,0]],[[0.5,0]]]\n",
    "# Vector de estado inicial color 1\n",
    "Ce = [[[0.1,0]],[[0.9,0]]]\n",
    "# Vector correspondiente al sistema ensamblado\n",
    "VE = vm.producto_tensorial(Ve, Ce)\n",
    "     \n",
    "# Matriz de la dinámica\n",
    "ME = vm.producto_tensorial(Mp, Np)\n",
    "\n",
    "# Número de clicks temporales\n",
    "clicks = 0\n",
    "\n",
    "# Ciclo para el cálculo de las acciones\n",
    "for t in range(clicks):\n",
    "     VE = vm.producto_de_matrices(ME, VE)\n",
    "\n",
    "print('Vector estado final:', VE)\n",
    "labels = ['Pto. 0 - Col 0', 'Pto. 0 - Col 1', 'Pto. 1 - Col 0', 'Pto. 1 - Col 1', 'Pto. 2 - Col 0', 'Pto. 2 - Col 1', 'Pto. 3 - Col 0', 'Pto. 3 - Col 1']\n",
    "estado = [VE[0][0][0], VE[1][0][0], VE[2][0][0], VE[3][0][0], VE[4][0][0], VE[5][0][0], VE[6][0][0], VE[7][0][0]]\n",
    "\n",
    "index = np.arange(len(labels))\n",
    "plt.bar(index, estado)\n",
    "plt.xlabel('Estado')\n",
    "plt.ylabel('Valor')\n",
    "plt.xticks(index, labels, rotation=90)\n",
    "plt.title('Evolución dinámica del sistema')\n",
    "plt.show()"
   ]
  },
  {
   "cell_type": "markdown",
   "metadata": {},
   "source": [
    "# Conclusiones punto de vista probabilístico\n",
    "\n",
    "* La estática de este tipo de sistemas (estados) permite considerar estados que reflejan la incertidumbre con respecto a determinar con exactitud cómo se encuentra el sistema en un tiempo dado.\n",
    "\n",
    "* La dinámica de este tipo de sistemas permite que de un punto salgan múltiples flechas con distintas probabilidades cuya suma sea 1 (es decir, el 100%. Esto en la matriz puede verse como que la suma de todas las componentes de una columna da 1). En el ejemplo consideramos una **matriz doblemente estocástica** (o doblemente probabilística, para la cual se tiene que la suma de todas las componentes de las filas también es 1). En este caso, tenemos la posibilidad de devolvernos en el tiempo."
   ]
  },
  {
   "cell_type": "markdown",
   "metadata": {},
   "source": [
    "# 3. Dinámicas cuánticas\n",
    "\n",
    "Como hemos podido observar, todavía no hemos empleado números complejos dentro de nuestros cálculos. El uso de los números complejos es uno de los elementos diferenciadores para la descripción de la dinámica de los sistemas cuánticos (así como el uso de pesos negativos).\n",
    "\n",
    "Vamos a ilustrar la dinámica cuántica haciendo uso de nuestro sistema 2 de Color.\n",
    "\n",
    "## Sistema de color cuántico\n",
    "\n",
    "<img src=\"leap32.jpg\"\n",
    "     style=\"float: center\" width=\"600\" />\n",
    "     \n",
    "La matriz que describe este sistema es:\n",
    "\n",
    "$$N_q = \\begin{bmatrix} \\frac{1}{\\sqrt{2}} & \\frac{-i}{\\sqrt{2}} \\\\ \\frac{i}{\\sqrt{2}} & \\frac{-1}{\\sqrt{2}} \\end{bmatrix}$$\n",
    "\n",
    "Si llamamos $|N_q|$ a la matriz que se saca calculando el módulo al cuadrado de cada una de las componentes de $N_q$, entonces tenemos que:\n",
    "\n",
    "$$|N_q| = \\begin{bmatrix} \\frac{1}{2} & \\frac{1}{2} \\\\ \\frac{1}{2} & \\frac{1}{2} \\end{bmatrix}$$\n",
    "\n",
    "Podemos observar fácilmente que $|N_q|$ es una matriz doblemente estocástica.\n",
    "\n",
    "También observemos que la matriz $N_q$ es una matriz unitaria.\n",
    "\n"
   ]
  },
  {
   "cell_type": "markdown",
   "metadata": {},
   "source": [
    "### ¿Cuál es la diferencia entre usar $N_q$ y usar $|N_q|$?\n",
    "\n",
    "Veamos la siguiente comparación de evolución después de 2 clicks de tiempo:"
   ]
  },
  {
   "cell_type": "code",
   "execution_count": 50,
   "metadata": {},
   "outputs": [
    {
     "name": "stdout",
     "output_type": "stream",
     "text": [
      "Vector estado final (dinámica cuántica): [[[0.9999999999999998, 0.0]], [[0.0, 0.0]]]\n",
      "Vector estado final (dinámica probabilística): [[[0.5, 0.0]], [[0.5, 0.0]]]\n"
     ]
    },
    {
     "data": {
      "image/png": "[encoded data removed]",
      "text/plain": [
       "<Figure size 432x288 with 1 Axes>"
      ]
     },
     "metadata": {
      "needs_background": "light"
     },
     "output_type": "display_data"
    },
    {
     "data": {
      "image/png": "[encoded data removed]",
      "text/plain": [
       "<Figure size 432x288 with 1 Axes>"
      ]
     },
     "metadata": {
      "needs_background": "light"
     },
     "output_type": "display_data"
    }
   ],
   "source": [
    "# Vector de estado inicial\n",
    "Vq = [[[1,0]],[[0,0]]]\n",
    "VqMod = [[[1,0]],[[0,0]]]    \n",
    "# Matrices de la dinámica\n",
    "Nq = [[[1/np.sqrt(2),0], [0,-1/np.sqrt(2)]],[[0,1/np.sqrt(2)],[-1/np.sqrt(2),0]]]\n",
    "NqMod = [[[0.5,0], [0.5,0]],[[0.5,0],[0.5,0]]]\n",
    "# Número de clicks temporales\n",
    "clicks = 2\n",
    "\n",
    "# Ciclo para el cálculo de las acciones\n",
    "for t in range(clicks):\n",
    "    Vq = vm.producto_de_matrices(Nq, Vq)\n",
    "    VqMod = vm.producto_de_matrices(NqMod, VqMod)   \n",
    "\n",
    "print('Vector estado final (dinámica cuántica):', Vq)\n",
    "print('Vector estado final (dinámica probabilística):', VqMod)\n",
    "labels = ['Color 0', 'Color 1']\n",
    "estado = [Vq[0][0][0], Vq[1][0][0]]\n",
    "estadoMod = [VqMod[0][0][0], VqMod[1][0][0]]\n",
    "\n",
    "index = np.arange(len(labels))\n",
    "plt.bar(index, estado)\n",
    "plt.xlabel('Estado')\n",
    "plt.ylabel('Valor')\n",
    "plt.xticks(index, labels, rotation=30)\n",
    "plt.title('Evolución dinámica del sistema cuántico')\n",
    "plt.show()\n",
    "\n",
    "plt.bar(index, estadoMod)\n",
    "plt.xlabel('Estado')\n",
    "plt.ylabel('Valor')\n",
    "plt.xticks(index, labels, rotation=30)\n",
    "plt.title('Evolución dinámica del sistema probabilístico')\n",
    "plt.show()"
   ]
  },
  {
   "cell_type": "markdown",
   "metadata": {},
   "source": [
    "En este ejemplo podemos observar un caso de **interferencia**."
   ]
  },
  {
   "cell_type": "markdown",
   "metadata": {},
   "source": [
    "# Conclusiones y puntos importantes de la dinámica cuántica\n",
    "\n",
    "* Un estado cuántico debe ser un vector para el que la suma de los cuadrados de los módulos de sus componentes sumen 1. \n",
    "* Una matriz que describa la dinámica de un sistema cuántico debe ser una matriz unitaria.\n",
    "* El uso de negativos y complejos permite observar el fenómeno de cancelación o interferencia."
   ]
  },
  {
   "cell_type": "code",
   "execution_count": null,
   "metadata": {},
   "outputs": [],
   "source": []
  }
 ],
 "metadata": {
  "kernelspec": {
   "display_name": "Python 3",
   "language": "python",
   "name": "python3"
  },
  "language_info": {
   "codemirror_mode": {
    "name": "ipython",
    "version": 3
   },
   "file_extension": ".py",
   "mimetype": "text/x-python",
   "name": "python",
   "nbconvert_exporter": "python",
   "pygments_lexer": "ipython3",
   "version": "3.7.3"
  }
 },
 "nbformat": 4,
 "nbformat_minor": 2
}
